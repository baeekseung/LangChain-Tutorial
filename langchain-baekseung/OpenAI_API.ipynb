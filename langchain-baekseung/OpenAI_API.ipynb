{
 "cells": [
  {
   "cell_type": "code",
   "execution_count": 3,
   "metadata": {},
   "outputs": [
    {
     "data": {
      "text/plain": [
       "True"
      ]
     },
     "execution_count": 3,
     "metadata": {},
     "output_type": "execute_result"
    }
   ],
   "source": [
    "from dotenv import load_dotenv\n",
    "load_dotenv()\n",
    "\n",
    "# from langchain_teddynote import logging\n",
    "# logging.langsmith(\"Baekseung_openai_api\", set_enable=True)"
   ]
  },
  {
   "cell_type": "code",
   "execution_count": null,
   "metadata": {},
   "outputs": [
    {
     "name": "stdout",
     "output_type": "stream",
     "text": [
      "content='눈 건강에 좋은 음식으로는 다음과 같은 것들이 있습니다:\\n\\n1. **당근**: 비타민 A가 풍부하여 시력을 보호하고 눈의 피로를 줄이는 데 도움이 됩니다.\\n\\n2. **시금치**: 루테인과 제아잔틴 같은 항산화제가 포함되어 있어 눈의 건강을 유지하고 황반변성을 예방하는 데 효과적입니다.\\n\\n3. **연어**: 오메가-3 지방산이 풍부하여 눈의 건조함을 줄이고 망막 건강을 지원합니다.\\n\\n이 음식들을 균형 잡힌 식단에 포함시키면 눈 건강을 유지하는 데 도움이 될 수 있습니다.' additional_kwargs={'refusal': None} response_metadata={'token_usage': {'completion_tokens': 145, 'prompt_tokens': 19, 'total_tokens': 164, 'completion_tokens_details': {'accepted_prediction_tokens': 0, 'audio_tokens': 0, 'reasoning_tokens': 0, 'rejected_prediction_tokens': 0}, 'prompt_tokens_details': {'audio_tokens': 0, 'cached_tokens': 0}}, 'model_name': 'gpt-4o-2024-08-06', 'system_fingerprint': 'fp_a6dfaf2bcf', 'id': 'chatcmpl-BMDD09dCqrgwYMphjiyU4HNRQ3Fe1', 'finish_reason': 'stop', 'logprobs': None} id='run-8371d8ad-11a7-4e4d-b415-0d45c611ed22-0' usage_metadata={'input_tokens': 19, 'output_tokens': 145, 'total_tokens': 164, 'input_token_details': {'audio': 0, 'cache_read': 0}, 'output_token_details': {'audio': 0, 'reasoning': 0}}\n",
      "--------------------------\n",
      "눈 건강에 좋은 음식으로는 다음과 같은 것들이 있습니다:\n",
      "\n",
      "1. **당근**: 비타민 A가 풍부하여 시력을 보호하고 눈의 피로를 줄이는 데 도움이 됩니다.\n",
      "\n",
      "2. **시금치**: 루테인과 제아잔틴 같은 항산화제가 포함되어 있어 눈의 건강을 유지하고 황반변성을 예방하는 데 효과적입니다.\n",
      "\n",
      "3. **연어**: 오메가-3 지방산이 풍부하여 눈의 건조함을 줄이고 망막 건강을 지원합니다.\n",
      "\n",
      "이 음식들을 균형 잡힌 식단에 포함시키면 눈 건강을 유지하는 데 도움이 될 수 있습니다.\n",
      "--------------------------\n",
      "{'token_usage': {'completion_tokens': 145, 'prompt_tokens': 19, 'total_tokens': 164, 'completion_tokens_details': {'accepted_prediction_tokens': 0, 'audio_tokens': 0, 'reasoning_tokens': 0, 'rejected_prediction_tokens': 0}, 'prompt_tokens_details': {'audio_tokens': 0, 'cached_tokens': 0}}, 'model_name': 'gpt-4o-2024-08-06', 'system_fingerprint': 'fp_a6dfaf2bcf', 'id': 'chatcmpl-BMDD09dCqrgwYMphjiyU4HNRQ3Fe1', 'finish_reason': 'stop', 'logprobs': None}\n"
     ]
    }
   ],
   "source": [
    "from langchain_openai import ChatOpenAI # langchain x openai collabo lib\n",
    "\n",
    "llm = ChatOpenAI(temperature=0.1, model_name=\"gpt-4o\")\n",
    "\n",
    "question = \"눈에 좋은 음식 3개만 추천해줘.\"\n",
    "response = llm.invoke(question) # invoke\n",
    "\n",
    "print(response)\n",
    "print(\"--------------------------\")\n",
    "print(response.content)\n",
    "print(\"--------------------------\")\n",
    "print(response.response_metadata)   # response.response_metadata[\"\"]"
   ]
  },
  {
   "cell_type": "code",
   "execution_count": 9,
   "metadata": {},
   "outputs": [
    {
     "name": "stdout",
     "output_type": "stream",
     "text": [
      "미국의 수도는 워싱턴 D.C.입니다.\n",
      "-----------------------\n",
      "{'content': [{'token': '미', 'bytes': [235, 175, 184], 'logprob': -7.584239938296378e-06, 'top_logprobs': []}, {'token': '국', 'bytes': [234, 181, 173], 'logprob': -2.5776860184123507e-06, 'top_logprobs': []}, {'token': '의', 'bytes': [236, 157, 152], 'logprob': -5.512236498361744e-07, 'top_logprobs': []}, {'token': ' 수도', 'bytes': [32, 236, 136, 152, 235, 143, 132], 'logprob': -9.088346359931165e-07, 'top_logprobs': []}, {'token': '는', 'bytes': [235, 138, 148], 'logprob': 0.0, 'top_logprobs': []}, {'token': ' 워', 'bytes': [32, 236, 155, 140], 'logprob': -5.512236498361744e-07, 'top_logprobs': []}, {'token': '싱', 'bytes': [236, 139, 177], 'logprob': 0.0, 'top_logprobs': []}, {'token': '턴', 'bytes': [237, 132, 180], 'logprob': -1.0802738870552275e-05, 'top_logprobs': []}, {'token': ' D', 'bytes': [32, 68], 'logprob': -9.849109119386412e-06, 'top_logprobs': []}, {'token': '.C', 'bytes': [46, 67], 'logprob': -1.9361264946837764e-07, 'top_logprobs': []}, {'token': '.', 'bytes': [46], 'logprob': -0.002516327193006873, 'top_logprobs': []}, {'token': '입니다', 'bytes': [236, 158, 133, 235, 139, 136, 235, 139, 164], 'logprob': -0.0012171403504908085, 'top_logprobs': []}, {'token': '.', 'bytes': [46], 'logprob': -4.36574100604048e-06, 'top_logprobs': []}], 'refusal': None}\n"
     ]
    }
   ],
   "source": [
    "llm_logprob = ChatOpenAI(temperature=0.1, model_name=\"gpt-4o\").bind(logprobs=True)\n",
    "question = \"미국의 수도는?\"\n",
    "response = llm_logprob.invoke(question)\n",
    "\n",
    "print(response.content)\n",
    "print(\"-----------------------\")\n",
    "print(response.response_metadata['logprobs'])"
   ]
  },
  {
   "cell_type": "code",
   "execution_count": null,
   "metadata": {},
   "outputs": [
    {
     "name": "stdout",
     "output_type": "stream",
     "text": [
      "오늘 저녁 메뉴로는 다음과 같은 옵션을 고려해보세요:\n",
      "\n",
      "1. **한식**: 김치찌개와 불고기, 그리고 밥과 함께 다양한 반찬을 곁들여 보세요.\n",
      "2. **양식**: 크림 파스타와 시저 샐러드를 준비해보세요. 간단한 마늘빵도 곁들이면 좋습니다.\n",
      "3. **일식**: 초밥이나 사시미 플래터를 준비하고, 미소된장국을 함께 곁들여 보세요.\n",
      "4. **중식**: 짜장면이나 짬뽕, 탕수육을 선택해보세요.\n",
      "5. **채식**: 다양한 채소를 활용한 비빔밥이나 렌틸콩 커리를 만들어 보세요.\n",
      "\n",
      "기분에 따라 다양한 요리를 시도해보세요!"
     ]
    }
   ],
   "source": [
    "llm = ChatOpenAI(temperature=0.1, model_name=\"gpt-4o\")\n",
    "question = \"오늘 저녁 메뉴 추천해줘.\"\n",
    "\n",
    "response = llm.stream(question) # stream\n",
    "final_answer = \"\"\n",
    "\n",
    "for token in response:\n",
    "    print(token.content, end=\"\", flush=True)\n",
    "    final_answer += token"
   ]
  }
 ],
 "metadata": {
  "kernelspec": {
   "display_name": "LangChainEnv",
   "language": "python",
   "name": "python3"
  },
  "language_info": {
   "codemirror_mode": {
    "name": "ipython",
    "version": 3
   },
   "file_extension": ".py",
   "mimetype": "text/x-python",
   "name": "python",
   "nbconvert_exporter": "python",
   "pygments_lexer": "ipython3",
   "version": "3.11.11"
  }
 },
 "nbformat": 4,
 "nbformat_minor": 2
}
